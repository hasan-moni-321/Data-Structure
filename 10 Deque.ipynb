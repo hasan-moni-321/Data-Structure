{
 "cells": [
  {
   "cell_type": "code",
   "execution_count": null,
   "metadata": {},
   "outputs": [],
   "source": [
    "#deque"
   ]
  },
  {
   "cell_type": "code",
   "execution_count": 10,
   "metadata": {},
   "outputs": [
    {
     "name": "stdout",
     "output_type": "stream",
     "text": [
      "The initial deque is : deque([2, 4, 6])\n",
      "After adding value to the left : deque([5, 3, 1, 2, 4, 6])\n",
      "After adding value to the right : deque([5, 3, 1, 2, 4, 6, 1, 3, 5])\n",
      "After deleting two value from the left : deque([1, 2, 4, 6, 1, 3, 5])\n",
      "After deleting two value from the right : deque([1, 2, 4, 6, 1])\n"
     ]
    }
   ],
   "source": [
    "from collections import deque\n",
    "dque = deque([2,4,6])\n",
    "\n",
    "print('The initial deque is :',dque)\n",
    "\n",
    "#adding value to the left\n",
    "dque.appendleft(1)\n",
    "dque.appendleft(3)\n",
    "dque.appendleft(5)\n",
    "print('After adding value to the left :', dque)\n",
    "\n",
    "#adding vlaue to the right\n",
    "dque.append(1)\n",
    "dque.append(3)\n",
    "dque.append(5)\n",
    "print('After adding value to the right :', dque)\n",
    "\n",
    "#deleting value from left\n",
    "dque.popleft()\n",
    "dque.popleft()\n",
    "print('After deleting two value from the left :', dque)\n",
    "\n",
    "#deleting value from right\n",
    "dque.pop()\n",
    "dque.pop()\n",
    "print('After deleting two value from the right :', dque)"
   ]
  },
  {
   "cell_type": "code",
   "execution_count": null,
   "metadata": {},
   "outputs": [],
   "source": []
  },
  {
   "cell_type": "code",
   "execution_count": null,
   "metadata": {},
   "outputs": [],
   "source": []
  },
  {
   "cell_type": "code",
   "execution_count": 11,
   "metadata": {},
   "outputs": [],
   "source": [
    "#some extra function in deque"
   ]
  },
  {
   "cell_type": "code",
   "execution_count": 26,
   "metadata": {},
   "outputs": [
    {
     "name": "stdout",
     "output_type": "stream",
     "text": [
      "The initial value is : deque([7, 8, 9, 11, 12, 13, 14, 11, 15])\n",
      "Index of 11 between 4 and 9 index : 7\n",
      "Value after inserting : deque([7, 8, 9, 10, 11, 12, 13, 14, 11, 15])\n",
      "Total number of 11 : 2\n",
      "printing after remove one 11: deque([7, 8, 9, 10, 12, 13, 14, 11, 15])\n"
     ]
    }
   ],
   "source": [
    "from collections import deque\n",
    "\n",
    "dq = deque([7,8,9,11,12,13,14,11,15])\n",
    "\n",
    "#printing value\n",
    "print('The initial value is :', dq)\n",
    "\n",
    "#finding index of 11\n",
    "print('Index of 11 between 4 and 9 index :',dq.index(11,4,9))\n",
    "\n",
    "#inserting 10 value in position 3\n",
    "dq.insert(3,10)\n",
    "\n",
    "#printing value\n",
    "print('Value after inserting :',dq)\n",
    "\n",
    "#counting total number of 11\n",
    "print('Total number of 11 :',dq.count(11))\n",
    "\n",
    "#removing a element from dqueue\n",
    "dq.remove(11)\n",
    "\n",
    "#printing after remove\n",
    "print('printing after remove one 11:', dq)"
   ]
  },
  {
   "cell_type": "code",
   "execution_count": null,
   "metadata": {},
   "outputs": [],
   "source": []
  },
  {
   "cell_type": "code",
   "execution_count": 27,
   "metadata": {},
   "outputs": [],
   "source": [
    "#extending deque"
   ]
  },
  {
   "cell_type": "code",
   "execution_count": 37,
   "metadata": {},
   "outputs": [
    {
     "name": "stdout",
     "output_type": "stream",
     "text": [
      "Initial data : deque([7, 8, 9])\n",
      "After extending deque in right: deque([7, 8, 9, 3, 2, 1])\n",
      "After extending deque in left : deque([6, 5, 4, 7, 8, 9, 3, 2, 1])\n",
      "After rotating : deque([7, 8, 9, 3, 2, 1, 6, 5, 4])\n",
      "Printing after reversee : deque([4, 5, 6, 1, 2, 3, 9, 8, 7])\n"
     ]
    }
   ],
   "source": [
    "from collections import deque\n",
    "\n",
    "dq = deque([7,8,9])\n",
    "print('Initial data :',dq)\n",
    "\n",
    "#extending deque in right\n",
    "dq.extend([3,2,1])\n",
    "print('After extending deque in right:',dq)\n",
    "\n",
    "#extending deque in left\n",
    "dq.extendleft([4,5,6])\n",
    "print('After extending deque in left :',dq)\n",
    "\n",
    "#rotate deque\n",
    "dq.rotate(-3)\n",
    "print('After rotating :',dq)\n",
    "\n",
    "#printing reverse\n",
    "dq.reverse()\n",
    "print('Printing after reversee :',dq)"
   ]
  },
  {
   "cell_type": "code",
   "execution_count": null,
   "metadata": {},
   "outputs": [],
   "source": []
  }
 ],
 "metadata": {
  "kernelspec": {
   "display_name": "Python 3",
   "language": "python",
   "name": "python3"
  },
  "language_info": {
   "codemirror_mode": {
    "name": "ipython",
    "version": 3
   },
   "file_extension": ".py",
   "mimetype": "text/x-python",
   "name": "python",
   "nbconvert_exporter": "python",
   "pygments_lexer": "ipython3",
   "version": "3.7.4"
  }
 },
 "nbformat": 4,
 "nbformat_minor": 2
}
