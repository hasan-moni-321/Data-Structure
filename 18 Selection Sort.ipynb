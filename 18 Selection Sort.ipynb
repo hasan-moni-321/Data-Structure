{
 "cells": [
  {
   "cell_type": "code",
   "execution_count": 5,
   "metadata": {},
   "outputs": [],
   "source": [
    "#Selection Sort"
   ]
  },
  {
   "cell_type": "code",
   "execution_count": 7,
   "metadata": {},
   "outputs": [
    {
     "name": "stdout",
     "output_type": "stream",
     "text": [
      "3 4 4 5 5 5 6 54 65 65 98 "
     ]
    }
   ],
   "source": [
    "def selection_sort(arr):\n",
    "    for i in range(len(arr)):\n",
    "        \n",
    "        min_ind = i\n",
    "        for j in range(i+1, len(arr)):\n",
    "            if arr[min_ind]>arr[j]:\n",
    "                min_ind = j\n",
    "                \n",
    "        arr[i], arr[min_ind] = arr[min_ind], arr[i]\n",
    "                \n",
    "\n",
    "\n",
    "arr = [3,5,4,54,5,65,65,4,5,6,98]\n",
    "selection_sort(arr)\n",
    "\n",
    "for i in range(len(arr)):\n",
    "    print(arr[i], end=' ')"
   ]
  },
  {
   "cell_type": "code",
   "execution_count": null,
   "metadata": {},
   "outputs": [],
   "source": []
  }
 ],
 "metadata": {
  "kernelspec": {
   "display_name": "Python 3",
   "language": "python",
   "name": "python3"
  },
  "language_info": {
   "codemirror_mode": {
    "name": "ipython",
    "version": 3
   },
   "file_extension": ".py",
   "mimetype": "text/x-python",
   "name": "python",
   "nbconvert_exporter": "python",
   "pygments_lexer": "ipython3",
   "version": "3.7.5"
  }
 },
 "nbformat": 4,
 "nbformat_minor": 2
}
