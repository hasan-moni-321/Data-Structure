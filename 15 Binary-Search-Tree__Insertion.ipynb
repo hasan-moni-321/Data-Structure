{
 "cells": [
  {
   "cell_type": "code",
   "execution_count": 13,
   "metadata": {},
   "outputs": [],
   "source": [
    "#Constructing Binary Search Tree"
   ]
  },
  {
   "cell_type": "code",
   "execution_count": 27,
   "metadata": {},
   "outputs": [
    {
     "name": "stdout",
     "output_type": "stream",
     "text": [
      "Inorder traversal of the constructed tree is : \n",
      "-2 1 5 7 10 40 2 50 -3 20 200 \n",
      "\n",
      "preorder traversal of the constructed tree is : \n",
      "10 5 1 -2 7 40 50 2 200 20 -3 \n",
      "\n",
      "postorder traversal of the constructed tree is : \n",
      "-2 1 7 5 2 -3 20 200 50 40 10 "
     ]
    }
   ],
   "source": [
    "class Node:\n",
    "    def __init__(self,data=0):\n",
    "        self.left = None\n",
    "        self.data = data\n",
    "        self.right = None\n",
    "        \n",
    "        \n",
    "class Binary_Search_Tree:\n",
    "    \n",
    "    def making_BST(self, li, length):\n",
    "        root = Node(l[0])\n",
    "        queue = []\n",
    "        queue.append(root)\n",
    "        \n",
    "        a = 1\n",
    "        while(a<length):\n",
    "            temp = None\n",
    "            while(len(queue)>0 and li[a]>queue[-1].data):\n",
    "                temp = queue.pop()\n",
    "            \n",
    "            if (temp != None):\n",
    "                temp.right = Node(li[a])\n",
    "                queue.append(temp.right)\n",
    "                \n",
    "            else:\n",
    "                temp = queue[-1]\n",
    "                temp.left = Node(li[a])\n",
    "                queue.append(temp.left)\n",
    "                \n",
    "            a += 1\n",
    "        return root\n",
    "    \n",
    "    def printing_tree_inorder(self,node):\n",
    "        if node==None:\n",
    "            return\n",
    "        \n",
    "        self.printing_tree_inorder(node.left)\n",
    "        print(node.data, end=' ')\n",
    "        self.printing_tree_inorder(node.right)\n",
    "        \n",
    "    def printing_tree_preorder(self, node):\n",
    "        if node==None:\n",
    "            return \n",
    "        \n",
    "        print(node.data, end=' ')\n",
    "        self.printing_tree_preorder(node.left)\n",
    "        self.printing_tree_preorder(node.right)\n",
    "        \n",
    "    def printing_tree_postorder(self, node):\n",
    "        if node==None:\n",
    "            return\n",
    "        \n",
    "        self.printing_tree_postorder(node.left)\n",
    "        self.printing_tree_postorder(node.right)\n",
    "        print(node.data, end=' ')\n",
    "        \n",
    "        \n",
    "    \n",
    "\n",
    "# Driver code \n",
    "tree = Binary_Search_Tree() \n",
    "l = [10, 5, 1,-2, 7, 40, 50,2,200,20,-3] \n",
    "length = len(l) \n",
    "root = tree.making_BST(l, length) \n",
    "\n",
    "\n",
    "#inorder printing\n",
    "print(\"Inorder traversal of the constructed tree is : \") \n",
    "tree.printing_tree_inorder(root) \n",
    "\n",
    "#preorder printing\n",
    "print(\"\\n\\npreorder traversal of the constructed tree is : \") \n",
    "tree.printing_tree_preorder(root)\n",
    "\n",
    "#postorder printing\n",
    "print(\"\\n\\npostorder traversal of the constructed tree is : \") \n",
    "tree.printing_tree_postorder(root)"
   ]
  },
  {
   "cell_type": "code",
   "execution_count": null,
   "metadata": {},
   "outputs": [],
   "source": []
  },
  {
   "cell_type": "code",
   "execution_count": null,
   "metadata": {},
   "outputs": [],
   "source": []
  },
  {
   "cell_type": "code",
   "execution_count": 28,
   "metadata": {},
   "outputs": [],
   "source": [
    "#Binary Search Treee \n",
    "#inserting a node in BST"
   ]
  },
  {
   "cell_type": "code",
   "execution_count": 40,
   "metadata": {},
   "outputs": [
    {
     "name": "stdout",
     "output_type": "stream",
     "text": [
      "The inserted values are : \n",
      "4 6 9 14 17 30 40 53 "
     ]
    }
   ],
   "source": [
    "class Node():\n",
    "    def __init__(self, data):\n",
    "        self.left = None\n",
    "        self.data = data\n",
    "        self.right = None\n",
    "        \n",
    "def inserting_data(node, newdata):\n",
    "    newnode = Node(newdata)\n",
    "    \n",
    "    n = node\n",
    "    k = None\n",
    "    \n",
    "    while(n != None):\n",
    "        k=n\n",
    "        if newdata<n.data:\n",
    "            n = n.left\n",
    "        else:\n",
    "            n = n.right\n",
    "             \n",
    "    if k==None:\n",
    "        k=newnode\n",
    "        \n",
    "    elif (newdata<k.data):\n",
    "        k.left = newnode\n",
    "        \n",
    "    else:\n",
    "        k.right = newnode\n",
    "        \n",
    "    return k\n",
    "\n",
    "def printing_data(root):\n",
    "    if (root==None):\n",
    "        return\n",
    "    else:\n",
    "        printing_data(root.left)\n",
    "        print(root.data, end=' ')\n",
    "        printing_data(root.right)\n",
    "    \n",
    "    \n",
    "    \n",
    "# Driver Code \n",
    "if __name__ == '__main__': \n",
    "  \n",
    "    root = None\n",
    "    root = inserting_data(root, 17)  \n",
    "    inserting_data(root, 6)\n",
    "    inserting_data(root, 30)  \n",
    "    inserting_data(root, 4)  \n",
    "    inserting_data(root, 40)  \n",
    "    inserting_data(root, 9)  \n",
    "    inserting_data(root, 14)  \n",
    "    inserting_data(root, 53)  \n",
    "    \n",
    "    #printing data in inorder\n",
    "    print('The inserted values are : ')\n",
    "    printing_data(root) \n",
    "    "
   ]
  },
  {
   "cell_type": "code",
   "execution_count": null,
   "metadata": {},
   "outputs": [],
   "source": []
  },
  {
   "cell_type": "code",
   "execution_count": null,
   "metadata": {},
   "outputs": [],
   "source": []
  },
  {
   "cell_type": "code",
   "execution_count": null,
   "metadata": {},
   "outputs": [],
   "source": []
  }
 ],
 "metadata": {
  "kernelspec": {
   "display_name": "Python 3",
   "language": "python",
   "name": "python3"
  },
  "language_info": {
   "codemirror_mode": {
    "name": "ipython",
    "version": 3
   },
   "file_extension": ".py",
   "mimetype": "text/x-python",
   "name": "python",
   "nbconvert_exporter": "python",
   "pygments_lexer": "ipython3",
   "version": "3.7.5"
  }
 },
 "nbformat": 4,
 "nbformat_minor": 2
}
