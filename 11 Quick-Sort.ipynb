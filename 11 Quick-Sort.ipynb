{
 "cells": [
  {
   "cell_type": "code",
   "execution_count": 24,
   "metadata": {},
   "outputs": [],
   "source": [
    "#QuickSort"
   ]
  },
  {
   "cell_type": "code",
   "execution_count": 34,
   "metadata": {},
   "outputs": [],
   "source": [
    "#making partion\n",
    "def partition(arr, low, high):\n",
    "    \n",
    "    a = low-1\n",
    "    pivot = arr[high]\n",
    "    \n",
    "    for i in range(low,high):\n",
    "        if arr[i]<pivot:\n",
    "            a=a+1\n",
    "            arr[a],arr[i] = arr[i],arr[a]\n",
    "            \n",
    "    arr[a+1],arr[high] = arr[high],arr[a+1]\n",
    "    return (a+1)\n",
    "\n",
    "#defining recursive function\n",
    "def QuickSort(a,l,h):\n",
    "    if l<h:\n",
    "        next_pivot = partition(a,l,h)\n",
    "        QuickSort(a,l,next_pivot-1)\n",
    "        QuickSort(a,next_pivot+1,h)\n",
    "            \n",
    "        \n",
    "        "
   ]
  },
  {
   "cell_type": "code",
   "execution_count": 35,
   "metadata": {},
   "outputs": [
    {
     "name": "stdout",
     "output_type": "stream",
     "text": [
      "The sorted list is : \n",
      "10 30 40 50 70 80 90 "
     ]
    }
   ],
   "source": [
    "#defining list\n",
    "arr = [10,80,30,90,40,50,70]\n",
    "low = 0\n",
    "heigh=len(arr)\n",
    "QuickSort(arr,low,heigh-1)\n",
    "\n",
    "print('The sorted list is : ')\n",
    "for i in range(len(arr)):\n",
    "    print(arr[i],end=' ')"
   ]
  },
  {
   "cell_type": "raw",
   "metadata": {},
   "source": []
  }
 ],
 "metadata": {
  "kernelspec": {
   "display_name": "Python 3",
   "language": "python",
   "name": "python3"
  },
  "language_info": {
   "codemirror_mode": {
    "name": "ipython",
    "version": 3
   },
   "file_extension": ".py",
   "mimetype": "text/x-python",
   "name": "python",
   "nbconvert_exporter": "python",
   "pygments_lexer": "ipython3",
   "version": "3.7.4"
  }
 },
 "nbformat": 4,
 "nbformat_minor": 2
}
