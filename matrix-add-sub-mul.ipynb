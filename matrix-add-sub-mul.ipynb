{
 "cells": [
  {
   "cell_type": "code",
   "execution_count": 1,
   "metadata": {},
   "outputs": [
    {
     "name": "stdout",
     "output_type": "stream",
     "text": [
      "[12, 12, 16]\n",
      "[5, 9, 7]\n",
      "[3, 7, 3]\n"
     ]
    }
   ],
   "source": [
    "#matrix addition\n",
    "a = [[4,7,9],\n",
    "     [2,4,3],\n",
    "     [2,3,1]]\n",
    "b = [[8,5,7],\n",
    "     [3,5,4],\n",
    "     [1,4,2]]\n",
    "X = [[0,0,0],\n",
    "     [0,0,0],\n",
    "     [0,0,0]]\n",
    "\n",
    "for i in range(3):\n",
    "    for j in range(3):\n",
    "        X[i][j] = a[i][j] + b[i][j]\n",
    "        \n",
    "\n",
    "for x in X:\n",
    "    print(x)"
   ]
  },
  {
   "cell_type": "code",
   "execution_count": null,
   "metadata": {},
   "outputs": [],
   "source": []
  },
  {
   "cell_type": "code",
   "execution_count": 2,
   "metadata": {},
   "outputs": [
    {
     "name": "stdout",
     "output_type": "stream",
     "text": [
      "[-4, 2, 2]\n",
      "[-1, -1, -1]\n",
      "[1, -1, -1]\n"
     ]
    }
   ],
   "source": [
    "#matrix subtraction\n",
    "a = [[4,7,9],\n",
    "     [2,4,3],\n",
    "     [2,3,1]]\n",
    "b = [[8,5,7],\n",
    "     [3,5,4],\n",
    "     [1,4,2]]\n",
    "X = a[:][:]\n",
    "\n",
    "for i in range(3):\n",
    "    for j in range(3):\n",
    "        X[i][j] = a[i][j] - b[i][j]\n",
    "\n",
    "\n",
    "for x in X:\n",
    "    print(x)"
   ]
  },
  {
   "cell_type": "code",
   "execution_count": null,
   "metadata": {},
   "outputs": [],
   "source": []
  },
  {
   "cell_type": "code",
   "execution_count": 3,
   "metadata": {},
   "outputs": [
    {
     "name": "stdout",
     "output_type": "stream",
     "text": [
      "[9, 7]\n",
      "[16, 18]\n"
     ]
    }
   ],
   "source": [
    "#matrix multiplication\n",
    "a = [[2,1],\n",
    "     [3,4]]\n",
    "b = [[4,2],\n",
    "     [1,3]]\n",
    "\n",
    "X = [[0,0],\n",
    "     [0,0]]\n",
    "\n",
    "for i in range(len(a)):\n",
    "    for j in range(len(b)):\n",
    "        for k in range(len(b)):\n",
    "                X[i][j] += a[i][k]*b[k][j]\n",
    "                \n",
    "for x in X:\n",
    "    print(x)"
   ]
  },
  {
   "cell_type": "code",
   "execution_count": null,
   "metadata": {},
   "outputs": [],
   "source": []
  },
  {
   "cell_type": "code",
   "execution_count": null,
   "metadata": {},
   "outputs": [],
   "source": []
  }
 ],
 "metadata": {
  "kernelspec": {
   "display_name": "Python 3",
   "language": "python",
   "name": "python3"
  },
  "language_info": {
   "codemirror_mode": {
    "name": "ipython",
    "version": 3
   },
   "file_extension": ".py",
   "mimetype": "text/x-python",
   "name": "python",
   "nbconvert_exporter": "python",
   "pygments_lexer": "ipython3",
   "version": "3.7.4"
  }
 },
 "nbformat": 4,
 "nbformat_minor": 2
}
