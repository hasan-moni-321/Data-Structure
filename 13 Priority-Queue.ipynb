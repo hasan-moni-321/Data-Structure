{
 "cells": [
  {
   "cell_type": "code",
   "execution_count": 1,
   "metadata": {},
   "outputs": [],
   "source": [
    "#PriorityQueue"
   ]
  },
  {
   "cell_type": "code",
   "execution_count": 16,
   "metadata": {},
   "outputs": [
    {
     "ename": "SyntaxError",
     "evalue": "invalid syntax (<ipython-input-16-e3a02912d2a3>, line 32)",
     "output_type": "error",
     "traceback": [
      "\u001b[0;36m  File \u001b[0;32m\"<ipython-input-16-e3a02912d2a3>\"\u001b[0;36m, line \u001b[0;32m32\u001b[0m\n\u001b[0;31m    def quicksort(arr,0,high):\u001b[0m\n\u001b[0m                      ^\u001b[0m\n\u001b[0;31mSyntaxError\u001b[0m\u001b[0;31m:\u001b[0m invalid syntax\n"
     ]
    }
   ],
   "source": [
    "class Node():\n",
    "    def __init__(self, data=None):\n",
    "        self.data = data\n",
    "        self.next = None\n",
    "    \n",
    "\n",
    "class PriorityQueue():\n",
    "    def __init__(self):\n",
    "        self.head = None\n",
    "        \n",
    "    def print_priority_queue(self):\n",
    "        headval = self.head\n",
    "        \n",
    "        if headval==None:\n",
    "            print('There is no value in the priority queue')\n",
    "            \n",
    "        while headval is not None:\n",
    "            print(headval.data)\n",
    "            headval=headval.next\n",
    "            \n",
    "    def deleting_data(self):\n",
    "        value = self.head\n",
    "        arr = []\n",
    "        high = range(len(d)-1)\n",
    "        \n",
    "        while value is not None:\n",
    "            arr.append(value.data)\n",
    "            value = value.next\n",
    "            \n",
    "        c = quicksort\n",
    "            \n",
    "        def quicksort(arr,0,high):\n",
    "            if low<high:\n",
    "                p = partition(arr,l,h):\n",
    "                \n",
    "                quicksort(arr,l,p-1)\n",
    "                quicksort(arr,p+1,high)\n",
    "            \n",
    "#defining quicksort for sorting data        \n",
    "        def partition(a,l,h):\n",
    "            pivot = a[high]\n",
    "            ind = l-1\n",
    "            for i in range(len(a)):\n",
    "                if pivot>a[i]:\n",
    "                    ind = ind+1\n",
    "                    a[ind],a[i] = a[i],a[ind]\n",
    "            a[ind+1],a[high] = a[high],a[ind+1]\n",
    "            return (ind+1)\n",
    "                    \n",
    "            \n",
    "      \n",
    "            \n",
    "pq = PriorityQueue()\n",
    "pq.head = Node(1)\n",
    "\n",
    "e2 = Node(2)\n",
    "e3 = Node(5)\n",
    "e4 = Node(3)\n",
    "e5 = Node(7)\n",
    "e6 = Node(4)\n",
    "e7 = Node(9)\n",
    "e8 = Node(5)\n",
    "\n",
    "pq.head.next = e2\n",
    "e2.next = e3\n",
    "e3.next = e4\n",
    "e4.next = e5\n",
    "e5.next = e6\n",
    "e6.next = e7\n",
    "e7.next = e8\n",
    "\n",
    "#printing initial value of priority queue\n",
    "print('The initial value of priority queue are : ')\n",
    "pq.print_priority_queue()\n",
    "\n"
   ]
  },
  {
   "cell_type": "code",
   "execution_count": 13,
   "metadata": {},
   "outputs": [],
   "source": [
    "l = [4,5,6,5,4,3]"
   ]
  },
  {
   "cell_type": "code",
   "execution_count": 15,
   "metadata": {},
   "outputs": [
    {
     "data": {
      "text/plain": [
       "3"
      ]
     },
     "execution_count": 15,
     "metadata": {},
     "output_type": "execute_result"
    }
   ],
   "source": [
    "l[-1]"
   ]
  },
  {
   "cell_type": "code",
   "execution_count": null,
   "metadata": {},
   "outputs": [],
   "source": []
  }
 ],
 "metadata": {
  "kernelspec": {
   "display_name": "Python 3",
   "language": "python",
   "name": "python3"
  },
  "language_info": {
   "codemirror_mode": {
    "name": "ipython",
    "version": 3
   },
   "file_extension": ".py",
   "mimetype": "text/x-python",
   "name": "python",
   "nbconvert_exporter": "python",
   "pygments_lexer": "ipython3",
   "version": "3.7.5"
  }
 },
 "nbformat": 4,
 "nbformat_minor": 2
}
