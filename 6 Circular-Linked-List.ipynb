{
 "cells": [
  {
   "cell_type": "code",
   "execution_count": 11,
   "metadata": {},
   "outputs": [
    {
     "name": "stdout",
     "output_type": "stream",
     "text": [
      "cloud\n",
      "falling cloud\n",
      "condensation process\n",
      "sea water\n",
      "river water\n",
      "land water\n",
      "\n",
      "\n",
      "adding some data :\n",
      "death\n",
      "life\n",
      "birth\n",
      "cloud\n",
      "falling cloud\n",
      "condensation process\n",
      "sea water\n",
      "river water\n",
      "land water\n"
     ]
    }
   ],
   "source": [
    "class Node():\n",
    "    def __init__(self, data):\n",
    "        self.data=data\n",
    "        self.next=None\n",
    "  \n",
    "class Circular_Linked_List():\n",
    "    def __init__(self):\n",
    "        self.head=None\n",
    "        \n",
    "    def adding_new_data(self, data):\n",
    "        new_node = Node(data)\n",
    "        temp = self.head\n",
    "        \n",
    "        new_node.next=self.head\n",
    "        \n",
    "        if self.head is not None:\n",
    "            while (temp.next != self.head):\n",
    "                temp=temp.next\n",
    "            temp.next=new_node\n",
    "            \n",
    "        else:\n",
    "            new_node.next=new_node\n",
    "                \n",
    "        self.head = new_node  \n",
    "        \n",
    "    def printing_the_list(self):\n",
    "        temp = self.head\n",
    "        \n",
    "        if (self.head is not None):\n",
    "            while(True):\n",
    "                print(temp.data)\n",
    "                temp=temp.next\n",
    "                if (temp==self.head):\n",
    "                    break\n",
    "                \n",
    "        \n",
    "        \n",
    "cll = Circular_Linked_List()\n",
    "\n",
    "cll.adding_new_data('land water')\n",
    "cll.adding_new_data('river water')\n",
    "cll.adding_new_data('sea water')\n",
    "cll.adding_new_data('condensation process')\n",
    "cll.adding_new_data('falling cloud')\n",
    "cll.adding_new_data('cloud')\n",
    "\n",
    "#printing the value\n",
    "cll.printing_the_list()\n",
    "\n",
    "#after adding new data\n",
    "print('\\n\\nadding some data :')\n",
    "cll.adding_new_data('birth')\n",
    "cll.adding_new_data('life')\n",
    "cll.adding_new_data('death')\n",
    "#printing the value\n",
    "cll.printing_the_list()"
   ]
  },
  {
   "cell_type": "code",
   "execution_count": null,
   "metadata": {},
   "outputs": [],
   "source": []
  }
 ],
 "metadata": {
  "kernelspec": {
   "display_name": "Python 3",
   "language": "python",
   "name": "python3"
  },
  "language_info": {
   "codemirror_mode": {
    "name": "ipython",
    "version": 3
   },
   "file_extension": ".py",
   "mimetype": "text/x-python",
   "name": "python",
   "nbconvert_exporter": "python",
   "pygments_lexer": "ipython3",
   "version": "3.7.4"
  }
 },
 "nbformat": 4,
 "nbformat_minor": 2
}
