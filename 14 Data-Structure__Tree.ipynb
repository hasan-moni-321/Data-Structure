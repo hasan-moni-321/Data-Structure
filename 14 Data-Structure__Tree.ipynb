{
 "cells": [
  {
   "cell_type": "code",
   "execution_count": 1,
   "metadata": {},
   "outputs": [],
   "source": [
    "#Tree"
   ]
  },
  {
   "cell_type": "code",
   "execution_count": 2,
   "metadata": {},
   "outputs": [
    {
     "name": "stdout",
     "output_type": "stream",
     "text": [
      "Printing the initial values: 7 11 10 15 9 8 \n",
      "\n",
      "After inserting value 25 : \n",
      "7 11 25 10 15 9 8 "
     ]
    }
   ],
   "source": [
    "class Node():\n",
    "    def __init__(self, data):\n",
    "        self.left = None\n",
    "        self.data = data\n",
    "        self.right = None\n",
    "        \n",
    "\n",
    "#traversing the tree\n",
    "def traverse(node):\n",
    "    if (not node):\n",
    "        return\n",
    "            \n",
    "    traverse(node.left)\n",
    "    print(node.data, end=' ')\n",
    "    traverse(node.right)\n",
    "    \n",
    "\n",
    "#inserting to the tree\n",
    "def insert_into_tree(r,value):\n",
    "    q=[]\n",
    "    q.append(r)\n",
    "    \n",
    "    while (len(q)):\n",
    "        r = q[0]\n",
    "        q.pop(0)\n",
    "        \n",
    "        if (not r.left):\n",
    "            r.left = Node(value)\n",
    "            return\n",
    "        else:\n",
    "            q.append(r.left)\n",
    "            \n",
    "        if (not r.right):\n",
    "            r.right = Node(value)\n",
    "            return\n",
    "        else:\n",
    "            q.append(r.right)\n",
    "    \n",
    "    \n",
    "\n",
    "root = Node(10)  \n",
    "root.left = Node(11)  \n",
    "root.left.left = Node(7)  \n",
    "root.right = Node(9)  \n",
    "root.right.left = Node(15)  \n",
    "root.right.right = Node(8)  \n",
    "  \n",
    "#printing the values\n",
    "print(\"Printing the initial values:\", end = \" \") \n",
    "traverse(root)\n",
    "\n",
    "value = 25\n",
    "insert_into_tree(root,value)\n",
    "\n",
    "#printing after inserting value 25\n",
    "print('\\n\\nAfter inserting value 25 : ')\n",
    "traverse(root)"
   ]
  },
  {
   "cell_type": "code",
   "execution_count": null,
   "metadata": {},
   "outputs": [],
   "source": []
  }
 ],
 "metadata": {
  "kernelspec": {
   "display_name": "Python 3",
   "language": "python",
   "name": "python3"
  },
  "language_info": {
   "codemirror_mode": {
    "name": "ipython",
    "version": 3
   },
   "file_extension": ".py",
   "mimetype": "text/x-python",
   "name": "python",
   "nbconvert_exporter": "python",
   "pygments_lexer": "ipython3",
   "version": "3.7.5"
  }
 },
 "nbformat": 4,
 "nbformat_minor": 2
}
