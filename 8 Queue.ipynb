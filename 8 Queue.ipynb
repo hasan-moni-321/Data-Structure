{
 "cells": [
  {
   "cell_type": "code",
   "execution_count": 28,
   "metadata": {},
   "outputs": [],
   "source": [
    "#queue using list"
   ]
  },
  {
   "cell_type": "code",
   "execution_count": 29,
   "metadata": {},
   "outputs": [
    {
     "name": "stdout",
     "output_type": "stream",
     "text": [
      "empty queue : []\n",
      "After adding : ['one', 'two', 'three', 'four', 'five']\n",
      "After deleting : ['three', 'four', 'five']\n"
     ]
    }
   ],
   "source": [
    "Queue = []\n",
    "\n",
    "#printing empty queue\n",
    "print('empty queue :',Queue)\n",
    "\n",
    "#adding data to the queue\n",
    "Queue.append('one')\n",
    "Queue.append('two')\n",
    "Queue.append('three')\n",
    "Queue.append('four')\n",
    "Queue.append('five')\n",
    "\n",
    "#printing after adding data\n",
    "print('After adding :', Queue)\n",
    "\n",
    "#deleting some data\n",
    "Queue.pop(0)\n",
    "Queue.pop(0)\n",
    "\n",
    "#printing after deleting\n",
    "print('After deleting :', Queue)"
   ]
  },
  {
   "cell_type": "code",
   "execution_count": null,
   "metadata": {},
   "outputs": [],
   "source": []
  },
  {
   "cell_type": "code",
   "execution_count": null,
   "metadata": {},
   "outputs": [],
   "source": []
  },
  {
   "cell_type": "code",
   "execution_count": 30,
   "metadata": {},
   "outputs": [],
   "source": [
    "#queue using deque"
   ]
  },
  {
   "cell_type": "code",
   "execution_count": 31,
   "metadata": {},
   "outputs": [
    {
     "name": "stdout",
     "output_type": "stream",
     "text": [
      "Empty queue : deque([])\n",
      "After adding : deque([2, 4, 6, 8, 10, 12])\n",
      "After deleting : deque([6, 8, 10, 12])\n"
     ]
    }
   ],
   "source": [
    "from collections import deque\n",
    "\n",
    "deq = deque()\n",
    "\n",
    "print('Empty queue :',deq)\n",
    "\n",
    "#adding some data\n",
    "deq.append(2)\n",
    "deq.append(4)\n",
    "deq.append(6)\n",
    "deq.append(8)\n",
    "deq.append(10)\n",
    "deq.append(12)\n",
    "\n",
    "#printing after adding data\n",
    "print('After adding :',deq)\n",
    "\n",
    "#deleting some data\n",
    "deq.popleft()\n",
    "deq.popleft()\n",
    "\n",
    "#printing after delete\n",
    "print('After deleting :',deq)\n"
   ]
  },
  {
   "cell_type": "code",
   "execution_count": null,
   "metadata": {},
   "outputs": [],
   "source": []
  },
  {
   "cell_type": "code",
   "execution_count": null,
   "metadata": {},
   "outputs": [],
   "source": []
  },
  {
   "cell_type": "code",
   "execution_count": 32,
   "metadata": {},
   "outputs": [],
   "source": [
    "#queue using Queue"
   ]
  },
  {
   "cell_type": "code",
   "execution_count": 33,
   "metadata": {},
   "outputs": [
    {
     "name": "stdout",
     "output_type": "stream",
     "text": [
      "Empty queue : 0\n",
      "Checking is queue full : True\n",
      "mug\n",
      "spoon\n",
      "lamb\n",
      "water bottle\n",
      "pendrive\n",
      "mobile\n",
      "book\n",
      "Checking is queue empty : True\n",
      "Checking is queue empty after putting pen: False\n",
      "Checking is queue full : False\n"
     ]
    }
   ],
   "source": [
    "from queue import Queue\n",
    "\n",
    "que = Queue(maxsize=7)\n",
    "\n",
    "#printing quesize\n",
    "print('Empty queue :',que.qsize())\n",
    "\n",
    "#adding some data\n",
    "que.put('mug')\n",
    "que.put('spoon')\n",
    "que.put('lamb')\n",
    "que.put('water bottle')\n",
    "que.put('pendrive')\n",
    "que.put('mobile')\n",
    "que.put('book')\n",
    "\n",
    "#is queue full\n",
    "print('Checking is queue full :',que.full())\n",
    "\n",
    "#getting data from queue\n",
    "print(que.get())\n",
    "print(que.get())\n",
    "print(que.get())\n",
    "print(que.get())\n",
    "print(que.get())\n",
    "print(que.get())\n",
    "print(que.get())\n",
    "\n",
    "#checking is queue empty\n",
    "print('Checking is queue empty :', que.empty())\n",
    "\n",
    "#putting 1 data\n",
    "que.put('pen')\n",
    "\n",
    "#checking is queue empty\n",
    "print('Checking is queue empty after putting pen:', que.empty())\n",
    "\n",
    "#checking is queue full\n",
    "print('Checking is queue full :', que.full())"
   ]
  },
  {
   "cell_type": "code",
   "execution_count": null,
   "metadata": {},
   "outputs": [],
   "source": []
  },
  {
   "cell_type": "code",
   "execution_count": null,
   "metadata": {},
   "outputs": [],
   "source": []
  }
 ],
 "metadata": {
  "kernelspec": {
   "display_name": "Python 3",
   "language": "python",
   "name": "python3"
  },
  "language_info": {
   "codemirror_mode": {
    "name": "ipython",
    "version": 3
   },
   "file_extension": ".py",
   "mimetype": "text/x-python",
   "name": "python",
   "nbconvert_exporter": "python",
   "pygments_lexer": "ipython3",
   "version": "3.7.4"
  }
 },
 "nbformat": 4,
 "nbformat_minor": 2
}
