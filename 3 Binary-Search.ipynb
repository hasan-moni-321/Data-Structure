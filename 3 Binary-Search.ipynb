{
 "cells": [
  {
   "cell_type": "code",
   "execution_count": 1,
   "metadata": {},
   "outputs": [],
   "source": [
    "#binary search\n",
    "def binary_search(arr, s, e, x):\n",
    "\n",
    "    if e >= s:\n",
    "        mid = s+(e-s)//2\n",
    "        \n",
    "        if arr[mid]==x:\n",
    "            print('Found position at :',mid) \n",
    "        \n",
    "        elif arr[mid] > x:\n",
    "            binary_search(arr,s,mid-1,x)\n",
    "            \n",
    "        else:\n",
    "            binary_search(arr,mid+1,e,x)\n",
    "        \n",
    "    else:\n",
    "        return -1"
   ]
  },
  {
   "cell_type": "code",
   "execution_count": 2,
   "metadata": {},
   "outputs": [
    {
     "name": "stdout",
     "output_type": "stream",
     "text": [
      "Found position at : 10\n"
     ]
    }
   ],
   "source": [
    "l = [2,4,8,10,11,12,14,16,18,20,22,23,25,37,39,44,50]\n",
    "\n",
    "result = binary_search(l, 0, len(l)-1, 22)\n",
    "\n"
   ]
  },
  {
   "cell_type": "code",
   "execution_count": null,
   "metadata": {},
   "outputs": [],
   "source": []
  }
 ],
 "metadata": {
  "kernelspec": {
   "display_name": "Python 3",
   "language": "python",
   "name": "python3"
  },
  "language_info": {
   "codemirror_mode": {
    "name": "ipython",
    "version": 3
   },
   "file_extension": ".py",
   "mimetype": "text/x-python",
   "name": "python",
   "nbconvert_exporter": "python",
   "pygments_lexer": "ipython3",
   "version": "3.7.4"
  }
 },
 "nbformat": 4,
 "nbformat_minor": 2
}
