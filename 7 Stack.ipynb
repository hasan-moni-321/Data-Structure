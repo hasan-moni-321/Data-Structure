{
 "cells": [
  {
   "cell_type": "code",
   "execution_count": 30,
   "metadata": {},
   "outputs": [],
   "source": [
    "#stack using List"
   ]
  },
  {
   "cell_type": "code",
   "execution_count": 31,
   "metadata": {},
   "outputs": [
    {
     "name": "stdout",
     "output_type": "stream",
     "text": [
      "[]\n",
      "[5, 10, 15, 20, 25]\n",
      "[5, 10, 15]\n"
     ]
    }
   ],
   "source": [
    "Stack = []\n",
    "\n",
    "#printing empty Stack\n",
    "print(Stack)\n",
    "\n",
    "#adding new value into Stack\n",
    "Stack.append(5)\n",
    "Stack.append(10)\n",
    "Stack.append(15)\n",
    "Stack.append(20)\n",
    "Stack.append(25)\n",
    "print(Stack)\n",
    "\n",
    "#deleting some value\n",
    "Stack.pop()\n",
    "Stack.pop()\n",
    "\n",
    "#printing after deleting value\n",
    "print(Stack)"
   ]
  },
  {
   "cell_type": "code",
   "execution_count": null,
   "metadata": {},
   "outputs": [],
   "source": []
  },
  {
   "cell_type": "code",
   "execution_count": null,
   "metadata": {},
   "outputs": [],
   "source": []
  },
  {
   "cell_type": "code",
   "execution_count": 32,
   "metadata": {},
   "outputs": [],
   "source": [
    "#Stack using queue"
   ]
  },
  {
   "cell_type": "code",
   "execution_count": 33,
   "metadata": {},
   "outputs": [
    {
     "name": "stdout",
     "output_type": "stream",
     "text": [
      "deque([])\n",
      "deque(['Bangladesh', 'India', 'Pakistan', 'Nepal', 'Maldip'])\n",
      "deque(['Bangladesh', 'India', 'Pakistan'])\n"
     ]
    }
   ],
   "source": [
    "from collections import deque \n",
    "\n",
    "\n",
    "deq = deque()\n",
    "\n",
    "#printing empty deque\n",
    "print(deq)\n",
    "\n",
    "#adding some value in the deque\n",
    "deq.append('Bangladesh')\n",
    "deq.append('India')\n",
    "deq.append('Pakistan')\n",
    "deq.append('Nepal')\n",
    "deq.append('Maldip')\n",
    "\n",
    "#printing after adding value\n",
    "print(deq)\n",
    "\n",
    "#deleting some data\n",
    "deq.pop()\n",
    "deq.pop()\n",
    "\n",
    "#printing after deleting two value\n",
    "print(deq)"
   ]
  },
  {
   "cell_type": "code",
   "execution_count": null,
   "metadata": {},
   "outputs": [],
   "source": []
  },
  {
   "cell_type": "code",
   "execution_count": null,
   "metadata": {},
   "outputs": [],
   "source": []
  },
  {
   "cell_type": "code",
   "execution_count": 34,
   "metadata": {},
   "outputs": [],
   "source": [
    "#Stack using LifoQueue"
   ]
  },
  {
   "cell_type": "code",
   "execution_count": 35,
   "metadata": {},
   "outputs": [
    {
     "name": "stdout",
     "output_type": "stream",
     "text": [
      "0\n",
      "Checking is stack full : True\n",
      "Size of the stack : 5\n",
      "Getting first data of stack: 98\n",
      "Getting second data of stack: 0\n",
      "Getting third data of stack: 8.5432\n",
      "Checking is stack empty : False\n"
     ]
    }
   ],
   "source": [
    "from queue import LifoQueue\n",
    "\n",
    "lique = LifoQueue(maxsize=5)\n",
    "\n",
    "#printing empty LifoQueue\n",
    "print(lique.qsize())\n",
    "\n",
    "#adding some data\n",
    "lique.put(2.43)\n",
    "lique.put(4.67)\n",
    "lique.put(8.5432)\n",
    "lique.put(0)\n",
    "lique.put(98)\n",
    "\n",
    "#printing is lique full and lique size\n",
    "print('Checking is stack full :',lique.full())\n",
    "print('Size of the stack :',lique.qsize())\n",
    "\n",
    "#getting data\n",
    "print('Getting first data of stack:', lique.get())\n",
    "print('Getting second data of stack:', lique.get())\n",
    "print('Getting third data of stack:', lique.get())\n",
    "\n",
    "\n",
    "#printing after deleting value\n",
    "print('Checking is stack empty :', lique.empty())"
   ]
  },
  {
   "cell_type": "code",
   "execution_count": null,
   "metadata": {},
   "outputs": [],
   "source": []
  },
  {
   "cell_type": "code",
   "execution_count": null,
   "metadata": {},
   "outputs": [],
   "source": []
  }
 ],
 "metadata": {
  "kernelspec": {
   "display_name": "Python 3",
   "language": "python",
   "name": "python3"
  },
  "language_info": {
   "codemirror_mode": {
    "name": "ipython",
    "version": 3
   },
   "file_extension": ".py",
   "mimetype": "text/x-python",
   "name": "python",
   "nbconvert_exporter": "python",
   "pygments_lexer": "ipython3",
   "version": "3.7.4"
  }
 },
 "nbformat": 4,
 "nbformat_minor": 2
}
